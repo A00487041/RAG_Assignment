{
 "cells": [
  {
   "cell_type": "code",
   "execution_count": 1,
   "id": "b8597122-6879-4119-84f8-07d266ccafbe",
   "metadata": {},
   "outputs": [],
   "source": [
    "import pandas as pd"
   ]
  },
  {
   "cell_type": "code",
   "execution_count": 2,
   "id": "91566512-31c7-4874-a38a-db2b035268bd",
   "metadata": {},
   "outputs": [],
   "source": [
    "df = pd.read_csv('arxiv_data.csv')"
   ]
  },
  {
   "cell_type": "code",
   "execution_count": 3,
   "id": "07c52b00-4edb-4f6f-b18d-489107069047",
   "metadata": {},
   "outputs": [
    {
     "name": "stdout",
     "output_type": "stream",
     "text": [
      "<class 'pandas.core.frame.DataFrame'>\n",
      "RangeIndex: 51774 entries, 0 to 51773\n",
      "Data columns (total 3 columns):\n",
      " #   Column     Non-Null Count  Dtype \n",
      "---  ------     --------------  ----- \n",
      " 0   titles     51774 non-null  object\n",
      " 1   summaries  51774 non-null  object\n",
      " 2   terms      51774 non-null  object\n",
      "dtypes: object(3)\n",
      "memory usage: 1.2+ MB\n"
     ]
    }
   ],
   "source": [
    "df.info()"
   ]
  },
  {
   "cell_type": "code",
   "execution_count": 4,
   "id": "b55ba18a-8a20-4ae6-984e-bc3a96be2719",
   "metadata": {},
   "outputs": [
    {
     "data": {
      "text/html": [
       "<div>\n",
       "<style scoped>\n",
       "    .dataframe tbody tr th:only-of-type {\n",
       "        vertical-align: middle;\n",
       "    }\n",
       "\n",
       "    .dataframe tbody tr th {\n",
       "        vertical-align: top;\n",
       "    }\n",
       "\n",
       "    .dataframe thead th {\n",
       "        text-align: right;\n",
       "    }\n",
       "</style>\n",
       "<table border=\"1\" class=\"dataframe\">\n",
       "  <thead>\n",
       "    <tr style=\"text-align: right;\">\n",
       "      <th></th>\n",
       "      <th>titles</th>\n",
       "      <th>summaries</th>\n",
       "      <th>terms</th>\n",
       "    </tr>\n",
       "  </thead>\n",
       "  <tbody>\n",
       "    <tr>\n",
       "      <th>0</th>\n",
       "      <td>Survey on Semantic Stereo Matching / Semantic ...</td>\n",
       "      <td>Stereo matching is one of the widely used tech...</td>\n",
       "      <td>['cs.CV', 'cs.LG']</td>\n",
       "    </tr>\n",
       "    <tr>\n",
       "      <th>1</th>\n",
       "      <td>FUTURE-AI: Guiding Principles and Consensus Re...</td>\n",
       "      <td>The recent advancements in artificial intellig...</td>\n",
       "      <td>['cs.CV', 'cs.AI', 'cs.LG']</td>\n",
       "    </tr>\n",
       "    <tr>\n",
       "      <th>2</th>\n",
       "      <td>Enforcing Mutual Consistency of Hard Regions f...</td>\n",
       "      <td>In this paper, we proposed a novel mutual cons...</td>\n",
       "      <td>['cs.CV', 'cs.AI']</td>\n",
       "    </tr>\n",
       "    <tr>\n",
       "      <th>3</th>\n",
       "      <td>Parameter Decoupling Strategy for Semi-supervi...</td>\n",
       "      <td>Consistency training has proven to be an advan...</td>\n",
       "      <td>['cs.CV']</td>\n",
       "    </tr>\n",
       "    <tr>\n",
       "      <th>4</th>\n",
       "      <td>Background-Foreground Segmentation for Interio...</td>\n",
       "      <td>To ensure safety in automated driving, the cor...</td>\n",
       "      <td>['cs.CV', 'cs.LG']</td>\n",
       "    </tr>\n",
       "  </tbody>\n",
       "</table>\n",
       "</div>"
      ],
      "text/plain": [
       "                                              titles  \\\n",
       "0  Survey on Semantic Stereo Matching / Semantic ...   \n",
       "1  FUTURE-AI: Guiding Principles and Consensus Re...   \n",
       "2  Enforcing Mutual Consistency of Hard Regions f...   \n",
       "3  Parameter Decoupling Strategy for Semi-supervi...   \n",
       "4  Background-Foreground Segmentation for Interio...   \n",
       "\n",
       "                                           summaries  \\\n",
       "0  Stereo matching is one of the widely used tech...   \n",
       "1  The recent advancements in artificial intellig...   \n",
       "2  In this paper, we proposed a novel mutual cons...   \n",
       "3  Consistency training has proven to be an advan...   \n",
       "4  To ensure safety in automated driving, the cor...   \n",
       "\n",
       "                         terms  \n",
       "0           ['cs.CV', 'cs.LG']  \n",
       "1  ['cs.CV', 'cs.AI', 'cs.LG']  \n",
       "2           ['cs.CV', 'cs.AI']  \n",
       "3                    ['cs.CV']  \n",
       "4           ['cs.CV', 'cs.LG']  "
      ]
     },
     "execution_count": 4,
     "metadata": {},
     "output_type": "execute_result"
    }
   ],
   "source": [
    "df.head()"
   ]
  },
  {
   "cell_type": "code",
   "execution_count": 5,
   "id": "950dff9e-b9b8-4c60-8d4b-1675530df086",
   "metadata": {},
   "outputs": [],
   "source": [
    "df = df.drop_duplicates(subset=['titles', 'summaries'])"
   ]
  },
  {
   "cell_type": "code",
   "execution_count": 6,
   "id": "b5fc716d-5973-4d04-833b-c9bada555d10",
   "metadata": {},
   "outputs": [],
   "source": [
    "df = df.dropna()"
   ]
  },
  {
   "cell_type": "code",
   "execution_count": 7,
   "id": "4dba802a-2561-46f7-a1e0-39fe900f8ec1",
   "metadata": {},
   "outputs": [
    {
     "name": "stdout",
     "output_type": "stream",
     "text": [
      "<class 'pandas.core.frame.DataFrame'>\n",
      "Index: 38985 entries, 0 to 51772\n",
      "Data columns (total 3 columns):\n",
      " #   Column     Non-Null Count  Dtype \n",
      "---  ------     --------------  ----- \n",
      " 0   titles     38985 non-null  object\n",
      " 1   summaries  38985 non-null  object\n",
      " 2   terms      38985 non-null  object\n",
      "dtypes: object(3)\n",
      "memory usage: 1.2+ MB\n"
     ]
    }
   ],
   "source": [
    "df.info()"
   ]
  },
  {
   "cell_type": "markdown",
   "id": "6a91a0e0-a414-43f4-ad04-a4f9139a6516",
   "metadata": {},
   "source": [
    "### Document Length Analysis\n",
    "We analyze the distribution of summaries length to understand content variation.\n"
   ]
  },
  {
   "cell_type": "code",
   "execution_count": 8,
   "id": "e9a8a5d6",
   "metadata": {},
   "outputs": [],
   "source": [
    "# Sample 100 rows\n",
    "df_sample = df.sample(n=1000, random_state=42)"
   ]
  },
  {
   "cell_type": "code",
   "execution_count": 9,
   "id": "5354c589-87cf-4c3d-87d9-906fb9e4daca",
   "metadata": {},
   "outputs": [
    {
     "name": "stdout",
     "output_type": "stream",
     "text": [
      "count    1000.000000\n",
      "mean      171.464000\n",
      "std        46.254256\n",
      "min        38.000000\n",
      "25%       139.000000\n",
      "50%       170.000000\n",
      "75%       201.000000\n",
      "max       307.000000\n",
      "Name: summary_length, dtype: float64\n"
     ]
    },
    {
     "data": {
      "image/png": "[encoded data removed]",
      "text/plain": [
       "<Figure size 800x500 with 1 Axes>"
      ]
     },
     "metadata": {},
     "output_type": "display_data"
    }
   ],
   "source": [
    "import numpy as np\n",
    "import matplotlib.pyplot as plt\n",
    "\n",
    "# Compute document lengths\n",
    "df_sample[\"summary_length\"] = df_sample[\"summaries\"].apply(lambda x: len(x.split()))\n",
    "\n",
    "# Display summary statistics\n",
    "print(df_sample[\"summary_length\"].describe())\n",
    "\n",
    "# Plot histogram of document lengths\n",
    "plt.figure(figsize=(8,5))\n",
    "plt.hist(df_sample[\"summary_length\"], bins=20, edgecolor='black')\n",
    "plt.xlabel(\"Summary Length (words)\")\n",
    "plt.ylabel(\"Frequency\")\n",
    "plt.title(\"Distribution of Summary Lengths\")\n",
    "plt.show()\n"
   ]
  },
  {
   "cell_type": "code",
   "execution_count": 10,
   "id": "91591d85-4304-43b3-abff-a6192be972e2",
   "metadata": {},
   "outputs": [
    {
     "name": "stdout",
     "output_type": "stream",
     "text": [
      "Vocabulary size: 18325\n"
     ]
    }
   ],
   "source": [
    "# 3. Vocabulary Size Calculation\n",
    "# To get an estimate of the dataset's vocabulary size:\n",
    "\n",
    "from collections import Counter\n",
    "\n",
    "# Join all text data and count unique words\n",
    "all_words = \" \".join(df_sample[\"summaries\"]).split()\n",
    "vocab_count = Counter(all_words)\n",
    "\n",
    "print(f\"Vocabulary size: {len(vocab_count)}\")"
   ]
  },
  {
   "cell_type": "code",
   "execution_count": 11,
   "id": "5c4a7303-e6ac-467a-8225-78d84c4d8acf",
   "metadata": {},
   "outputs": [
    {
     "name": "stdout",
     "output_type": "stream",
     "text": [
      "               Topic  Count\n",
      "0              cs.CV    571\n",
      "4              cs.LG    565\n",
      "5            stat.ML    302\n",
      "7              cs.AI    148\n",
      "12             cs.RO     39\n",
      "..               ...    ...\n",
      "71             65K10      1\n",
      "72             G.1.6      1\n",
      "74             97R40      1\n",
      "75     I.2.11; I.2.6      1\n",
      "112  physics.comp-ph      1\n",
      "\n",
      "[113 rows x 2 columns]\n"
     ]
    },
    {
     "data": {
      "image/png": "[encoded data removed]",
      "text/plain": [
       "<Figure size 1200x600 with 1 Axes>"
      ]
     },
     "metadata": {},
     "output_type": "display_data"
    }
   ],
   "source": [
    "# # 4. Topic Distribution Analysis\n",
    "# # The terms column contains multiple topic labels per document. We will flatten and count their occurrences.\n",
    "\n",
    "# from collections import Counter\n",
    "# import pandas as pd\n",
    "# import matplotlib.pyplot as plt\n",
    "\n",
    "# # Count occurrences of each unique title (topic)\n",
    "# topic_counts = df[\"terms\"].value_counts()\n",
    "\n",
    "# # Convert to DataFrame for visualization\n",
    "# topic_df = topic_counts.reset_index()\n",
    "# topic_df.columns = [\"Topic\", \"Count\"]\n",
    "\n",
    "# # Display topic frequency\n",
    "# print(topic_df)\n",
    "\n",
    "# # Plot topic distribution\n",
    "# plt.figure(figsize=(10, 5))\n",
    "# plt.bar(topic_df[\"Topic\"], topic_df[\"Count\"], color='skyblue')\n",
    "# plt.xticks(rotation=90)  # Rotate for better readability if too many topics\n",
    "# plt.xlabel(\"Topics\")\n",
    "# plt.ylabel(\"Frequency\")\n",
    "# plt.title(\"Topic Distribution in Dataset\")\n",
    "# plt.show()\n",
    "\n",
    "from collections import Counter\n",
    "import pandas as pd\n",
    "import matplotlib.pyplot as plt\n",
    "import ast  # To safely convert string lists into actual lists\n",
    "\n",
    "# Flatten the topic lists\n",
    "all_topics = []\n",
    "for topics in df_sample[\"terms\"]:\n",
    "    topic_list = ast.literal_eval(topics)  # Convert string list to actual list\n",
    "    all_topics.extend(topic_list)  # Add all topics to a single list\n",
    "\n",
    "# Count occurrences of each unique topic\n",
    "topic_counts = Counter(all_topics)\n",
    "\n",
    "# Convert to DataFrame for visualization\n",
    "topic_df = pd.DataFrame(topic_counts.items(), columns=[\"Topic\", \"Count\"]).sort_values(by=\"Count\", ascending=False)\n",
    "\n",
    "# Display topic frequency\n",
    "print(topic_df)\n",
    "\n",
    "# Plot topic distribution\n",
    "plt.figure(figsize=(12, 6))\n",
    "plt.bar(topic_df[\"Topic\"], topic_df[\"Count\"], color='skyblue')\n",
    "plt.xticks(rotation=90)  # Rotate for better readability if too many topics\n",
    "plt.xlabel(\"Topics\")\n",
    "plt.ylabel(\"Frequency\")\n",
    "plt.title(\"Topic Distribution in Dataset\")\n",
    "plt.show()\n"
   ]
  },
  {
   "cell_type": "markdown",
   "id": "8095517c",
   "metadata": {},
   "source": [
    "## RAG Model with LLM Generated Dataset Questions\n",
    "The following RAG Model was given the 15 original questions from our initial run, but also new questions generated from the LLM (including relevant and irrelevant topics to the documents)"
   ]
  },
  {
   "cell_type": "code",
   "execution_count": 42,
   "id": "564240f3-e986-4032-936f-0dba4395f663",
   "metadata": {},
   "outputs": [],
   "source": [
    "import numpy as np\n",
    "import pandas as pd\n",
    "from sentence_transformers import SentenceTransformer, util\n",
    "from transformers import T5ForConditionalGeneration, T5Tokenizer\n",
    "from sklearn.metrics import precision_score, recall_score, f1_score, accuracy_score\n",
    "\n",
    "# Load models\n",
    "embedding_model = SentenceTransformer('BAAI/bge-small-en')\n",
    "generation_model = T5ForConditionalGeneration.from_pretrained('google/flan-t5-small')\n",
    "tokenizer = T5Tokenizer.from_pretrained('google/flan-t5-small')\n",
    "\n",
    "\n",
    "# 2. Hardcoded Questions (replace dynamic generation)\n",
    "hardcoded_questions = [\n",
    "   \"What issue does consistency training face?\",\n",
    "    \"What is EHT used for?\",\n",
    "    \"What challenge do deep models face?\",\n",
    "    \"How does transfer learning reduce data labeling costs?\",\n",
    "    \"What is StructBoost in boosting algorithms?\",\n",
    "    \"What problem does Augmented CycleGAN address?\",\n",
    "    \"What does the new algorithm for transductive inference optimize?\",\n",
    "    \"What does DSAL combine for image segmentation?\",\n",
    "    \"What problem does StructBoost address in multi-source domain adaptation?\",\n",
    "    \"What is the benefit of using surrogate maximization for performance metrics?\",\n",
    "    \"How does the point-set kernel measure compute similarity between objects?\",\n",
    "    \"How does the 'Adversarial Payload Loss' evade malware detection while preserving functionality?\",\n",
    "    \"How does AI-powered 3D image segmentation enable personalized treatment planning in oncology?\",\n",
    "    \"What strategies can be used to enhance teamwork and communication in Agile environments?\",\n",
    "    \"How can data-driven insights optimize customer support in retail environments?\"\n",
    "]\n",
    "\n",
    "# 3. Evaluate RAG Model based on hardcoded questions\n",
    "def evaluate_rag(df, questions, top_k=3):\n",
    "    results = []\n",
    "\n",
    "    for question in questions:\n",
    "        # Embed the question\n",
    "        query_embedding = embedding_model.encode(question, convert_to_tensor=True)\n",
    "\n",
    "        # Embed all documents in the dataset\n",
    "        doc_embeddings = embedding_model.encode(df['summaries'].tolist(), convert_to_tensor=True)\n",
    "\n",
    "        # Retrieve top-k relevant documents based on similarity\n",
    "        similarities = util.pytorch_cos_sim(query_embedding, doc_embeddings)[0]\n",
    "\n",
    "        # Make a copy of the array to avoid negative stride errors\n",
    "        similarities_copy = similarities.cpu().numpy().copy()\n",
    "\n",
    "        top_indices = np.argsort(similarities_copy)[-top_k:][::-1]\n",
    "\n",
    "        retrieved_docs = df.iloc[top_indices]\n",
    "\n",
    "        # Generate an answer based on the retrieved documents\n",
    "        doc_context = \" \".join(retrieved_docs['summaries'].tolist())\n",
    "        input_text = f\"Answer the question: {question} Based on the following documents: {doc_context[:1500]}\"\n",
    "\n",
    "        inputs = tokenizer(input_text, return_tensors=\"pt\", truncation=True, padding=\"longest\", max_length=1024)\n",
    "        outputs = generation_model.generate(**inputs, max_length=150, num_return_sequences=1)\n",
    "        answer = tokenizer.decode(outputs[0], skip_special_tokens=True)\n",
    "\n",
    "        # Store the results\n",
    "        results.append({\n",
    "            'question': question,\n",
    "            'answer': answer,\n",
    "            'retrieved_docs': retrieved_docs['summaries'].tolist(),\n",
    "            'retrieved_titles': retrieved_docs['titles'].tolist(),\n",
    "            'retrieved_terms': retrieved_docs['terms'].tolist(),\n",
    "            'similarities': similarities_copy[top_indices].tolist()  # Using the copied similarities array\n",
    "        })\n",
    "\n",
    "    return pd.DataFrame(results)"
   ]
  },
  {
   "cell_type": "code",
   "execution_count": 43,
   "id": "f8821bfd",
   "metadata": {},
   "outputs": [],
   "source": [
    "# Get results from the RAG evaluation\n",
    "results_df = evaluate_rag(df_sample, hardcoded_questions)"
   ]
  },
  {
   "cell_type": "code",
   "execution_count": 44,
   "id": "70d4cb3d",
   "metadata": {},
   "outputs": [
    {
     "name": "stdout",
     "output_type": "stream",
     "text": [
      "Evaluation completed and results saved to 'short_rag_llm_evaluation_results.csv'.\n"
     ]
    }
   ],
   "source": [
    "# Save Final Results\n",
    "results_df.to_csv('short_rag_llm_evaluation_results.csv', index=False)\n",
    "print(\"Evaluation completed and results saved to 'short_rag_llm_evaluation_results.csv'.\")"
   ]
  },
  {
   "cell_type": "markdown",
   "id": "6072dc97",
   "metadata": {},
   "source": [
    "# Evaluation of RAG Model Performance: LLM vs. Manual Assessment\n",
    "\n",
    "## Question Generation:\n",
    "    \"What does deep reinforcement learning combine?\", #['cs.CV']\n",
    "    \"What is the main focus of the research in this paper regarding Blockchain technologies?\", #['cs.SI']\n",
    "    \"What does pose information represent in Capsule Networks?\", #['cs.AI']\n",
    "    \"What are the key components of VA-GAN?\", #['eess.IV']\n",
    "    \"How does the paper contribute to understanding the network dynamics behind cryptocurrencies like Bitcoin?\", #['stat.ML']\n",
    "    \"What specific image processing algorithms were used to transform RNA sequences into gene motifs for the CNN classification?\", #['cs.RO']\n",
    "    \"What is the role of camera-aware domain adaptation in the proposed method?\", #['cs.AI']\n",
    "    \"What is the primary goal of the Structure Transfer Machine (STM) method?\", #['cs.RO']\n",
    "    \"What is the role of the manifold structure in STM?\", #['cs.CV']\n",
    "    \"Where can the source code for STM be accessed?\", #['eess.IV']\n",
    "    \"What are the three main challenges in multi-task reinforcement learning?\", #['cs.SI']\n",
    "    \"What is the main goal of self-supervised methods in reinforcement learning?\", #['stat.ML']\n",
    "    \"How does the proposed Local and Global Diffusion (LGD) framework address this limitation?\", #['cs.LG']\n",
    "    \"What is the role of diffusions in the LGD network?\", #['q-fin.ST']\n",
    "    \"How many categories and images are included in the UDD dataset?\", #['eess.IV']\n",
    "    \"What are the recent advancements in graph neural networks?\", #['q-fin.ST']\n",
    "    \"How is contrastive learning used in computer vision applications?\", #['q-fin.ST']\n",
    "    \"What role does self-supervised learning play in improving model performance?\", #['cs.AI']\n",
    "    \"How does knowledge distillation contribute to deep learning efficiency?\", #['cs.AI']\n",
    "    \"What are the key differences between traditional and quantum machine learning?\", #['cs.CV']\n",
    "    \"What were the primary causes of the fall of the Roman Empire?\", #['cs.LG']\n",
    "    \"How did Renaissance art influence modern painting techniques?\", #['cs.AI']\n",
    "    \"What are the philosophical implications of time travel?\", #['eess.IV']\n",
    "    \"How does astrology determine personality traits?\", #['cs.LG']\n",
    "    \"What are the traditional methods of winemaking in France?\", #['stat.ML']\n",
    "    \"What role did mythology play in ancient Greek society?\", #['cs.SI']\n",
    "    \"What are the main techniques used in composing classical symphonies?\", #['cs.AI']\n",
    "    \"How has urban planning evolved in the last century?\", #['cs.CV']\n",
    "    \"What are the core principles of homeopathy?\", #['q-fin.ST']\n",
    "    \"What impact does climate change have on deep-sea marine ecosystems?\", #['stat.ML']\n",
    "    \"How do historians verify ancient manuscripts?\", #['eess.IV']\n",
    "    \"What are the main psychological theories explaining human creativity?\", #['cs.LG']\n",
    "\n",
    "## 4o Model Performance (first round):\n",
    "### 1. Underestimated Performance\n",
    "- Some responses were marked as incorrect when they were actually **partially correct** or **almost correct**.\n",
    "- If an answer is almost correct but contains minor errors, an ideal evaluator should consider this, which the LLM failed to do.\n",
    "\n",
    "### 2. Failure to Identify Out-of-Scope Questions\n",
    "- The LLM evaluated questions outside the dataset's domain instead of marking them as **unanswerable**.\n",
    "- Example: Questions about the Roman Empire, Renaissance art, and astrology should not have been evaluated.\n",
    "- These out-of-scope topics were also considered as not missing any documents - despite there being no documents about them in the dataset \n",
    "\n",
    "### 3. Inconsistent Runs\n",
    "- When using a different prompt or trying to add extra information to the LLM to evaluate, it gave completely different results (see screenshot 3) - indicating no hallucinated records, when it initially said every one had hallucinated.\n",
    "- Attempted to shorten the question set, but still recieved all incorrect responses from the LLM. (see screenshot 4)\n",
    "\n",
    "## o1 Model Performance:\n",
    "### 1. Unable to actually evaluate and compare\n",
    "- It provided a good baseline for structure and an 'example' of what it should look like.\n",
    "- Couldn't perform the actual evaluation and just used placeholder numbers (see screenshot 2).\n",
    "\n",
    "## Attempted Calling the API in Code:\n",
    "- Couldn't parse through properly without the ability to continually prompt the LLM.\n",
    "- Returned errors for every single evaluation.\n",
    "\n",
    "\n",
    "## Usefulness of the LLM in Evaluating RAG\n",
    "\n",
    "### Strengths\n",
    "- **Time Efficiency:** The LLM processed evaluations much faster than manual checking.\n",
    "- **Quantitative Metrics:** Provided structured precision, recall, and F1-scores for multiple queries quickly and accuractely (to its own labelling).\n",
    "\n",
    "### Weaknesses\n",
    "- **Contextual Misinterpretation:** The LLM could not distinguish hallucinated answers from correct retrievals.\n",
    "- **Failure to Detect Partial Correctness:** It struggled to differentiate between fully correct, almost correct, and incorrect answers.\n",
    "- **Poor Handling of Out-of-Scope Questions:** Evaluated irrelevant queries instead of marking them as **unanswerable**.\n",
    "\n",
    "\n",
    "## Conclusion\n",
    "- The LLM provided a **useful** baseline for RAG evaluation but lacked nuance in its assessments.\n",
    "- **Manual verification remains necessary** to:\n",
    "  - Detect hallucinations and retrieval failures.\n",
    "  - Identify **out-of-scope** questions.\n",
    "  - Improve **evaluation accuracy** by distinguishing partial correctness.\n",
    "- A **hybrid approach**—using LLM for initial assessments and manual checks for edge cases—would be the most effective strategy.\n"
   ]
  },
  {
   "cell_type": "markdown",
   "id": "0794884c",
   "metadata": {},
   "source": [
    "![LLM 4o](llm_4o_eval.png)"
   ]
  },
  {
   "cell_type": "markdown",
   "id": "7766a7e0",
   "metadata": {},
   "source": [
    "![LLM 4o](llm_o1_eval.png)"
   ]
  },
  {
   "cell_type": "markdown",
   "id": "f3de9afd",
   "metadata": {},
   "source": [
    "![LLM 4o](llm_4o_eval_2.png)"
   ]
  },
  {
   "cell_type": "markdown",
   "id": "2f6a5e63",
   "metadata": {},
   "source": [
    "![LLM 4o](llm_4o_short_eval.png)"
   ]
  },
  {
   "cell_type": "markdown",
   "id": "64d2cd42",
   "metadata": {},
   "source": [
    "# Attempting to automate the LLM Evaluation Process\n",
    "\n",
    "## Using OpenAi API Services\n",
    "### 1. Referencing the API Key"
   ]
  },
  {
   "cell_type": "code",
   "execution_count": 15,
   "id": "10d81eb0-d515-4c75-9b5a-ee57577b0191",
   "metadata": {},
   "outputs": [],
   "source": [
    "import openai\n",
    "import time\n",
    "import json\n",
    "from openai import OpenAI"
   ]
  },
  {
   "cell_type": "code",
   "execution_count": 16,
   "id": "553cf4f4",
   "metadata": {},
   "outputs": [
    {
     "name": "stdout",
     "output_type": "stream",
     "text": [
      "ChatCompletionMessage(content='Silent circuits hum,  \\nWisdom woven through the code,  \\nDreams of metal minds.  ', refusal=None, role='assistant', audio=None, function_call=None, tool_calls=None)\n"
     ]
    }
   ],
   "source": [
    "client = openai.OpenAI(\n",
    "  api_key=\"\"\n",
    ")\n",
    "\n",
    "completion = client.chat.completions.create(\n",
    "  model=\"gpt-4o-mini\",\n",
    "  store=True,\n",
    "  messages=[\n",
    "    {\"role\": \"user\", \"content\": \"write a haiku about ai\"}\n",
    "  ]\n",
    ")\n",
    "\n",
    "print(completion.choices[0].message);"
   ]
  },
  {
   "cell_type": "code",
   "execution_count": 17,
   "id": "c4444329",
   "metadata": {},
   "outputs": [],
   "source": [
    "df_arxiv = pd.read_csv(\"arxiv_data.csv\")  # Original ground-truth dataset\n",
    "df_rag = pd.read_csv(\"rag_llm_evaluation_results.csv\")  # RAG-generated results"
   ]
  },
  {
   "cell_type": "markdown",
   "id": "964e39ae",
   "metadata": {},
   "source": [
    "### 2. Giving prompt to the LLM and try catches to do: "
   ]
  },
  {
   "cell_type": "code",
   "execution_count": 29,
   "id": "a30a2fa5",
   "metadata": {},
   "outputs": [],
   "source": [
    "def evaluate_rag_with_llm(question, answer, retrieved_docs, original_data, max_retries=3):\n",
    "    \"\"\"\n",
    "    Uses GPT-4 API to evaluate RAG-generated answers based on retrieved documents\n",
    "    and original ground-truth data. Returns a CSV-friendly format.\n",
    "    \"\"\"\n",
    "    prompt = f\"\"\"\n",
    "    You are an expert evaluator assessing a Retrieval-Augmented Generation (RAG) model.\n",
    "    \n",
    "    **Ground Truth Data (Original Documents):**\n",
    "    {original_data}\n",
    "\n",
    "    **User Question:** {question}\n",
    "    \n",
    "    **Generated Answer:** {answer}\n",
    "    \n",
    "    **Retrieved Documents:** \n",
    "    {retrieved_docs}\n",
    "\n",
    "    **Evaluation Instructions:** \n",
    "    - Label each retrieved document as **Correct** or **Incorrect**.\n",
    "    - Identify any documents that **should have been retrieved** but were missing.\n",
    "    - Check if the generated answer contains **hallucinated (false) information**.\n",
    "    - Calculate **Precision, Recall, F1-score, and Accuracy** based on retrieved document correctness.\n",
    "\n",
    "    **Return the output in a CSV-friendly table format with the following columns:**\n",
    "    ```\n",
    "    Question, Generated Answer, Retrieved Docs, Correct Docs, Incorrect Docs, Missing Docs, Hallucination (Yes/No), Precision, Recall, F1-score, Accuracy, Evaluation Comment\n",
    "    \"What is AI?\", \"AI is a machine learning field.\", \"Doc1, Doc2\", \"Doc1\", \"Doc2\", \"Doc3\", \"No\", 0.75, 0.80, 0.77, 0.78, \"The answer is mostly correct.\"\n",
    "    ```\n",
    "    **Do not include any extra text, explanations, or JSON. Only return the CSV rows.**\n",
    "    \"\"\"\n",
    "\n",
    "    retries = 0\n",
    "    while retries < max_retries:\n",
    "        try:\n",
    "            response = client.chat.completions.create(\n",
    "                model=\"gpt-4-turbo\",\n",
    "                messages=[\n",
    "                    {\"role\": \"system\", \"content\": \"You are an expert evaluator for RAG-based AI models.\"},\n",
    "                    {\"role\": \"user\", \"content\": prompt}\n",
    "                ],\n",
    "                temperature=0.3\n",
    "            )\n",
    "\n",
    "            return response.choices[0].message.content  # Extract GPT-4 response\n",
    "\n",
    "        except openai.error.OpenAIError as e:\n",
    "            print(f\"OpenAI API error: {e}\")\n",
    "            retries += 1\n",
    "            time.sleep(2)  # Wait before retrying\n",
    "\n",
    "        except Exception as e:\n",
    "            print(f\"Unexpected error: {e}\")\n",
    "            return None\n",
    "\n",
    "    print(\"Max retries reached, skipping question.\")\n",
    "    return None"
   ]
  },
  {
   "cell_type": "markdown",
   "id": "68397a2e",
   "metadata": {},
   "source": [
    "### 3. Automating the evaluation - comparing the documents from the original dataset to the RAG generated QA dataset, saving results as a csv"
   ]
  },
  {
   "cell_type": "code",
   "execution_count": 30,
   "id": "f43ac5ba",
   "metadata": {},
   "outputs": [
    {
     "name": "stdout",
     "output_type": "stream",
     "text": [
      "Evaluating question 1/32...\n",
      "Evaluating question 2/32...\n",
      "Evaluating question 3/32...\n",
      "Evaluating question 4/32...\n",
      "Evaluating question 5/32...\n",
      "Evaluating question 6/32...\n",
      "Evaluating question 7/32...\n"
     ]
    },
    {
     "name": "stderr",
     "output_type": "stream",
     "text": [
      "/var/folders/z4/tl201fy9215_hlv5g9h1v2sm0000gp/T/ipykernel_11831/1319387905.py:10: UserWarning: This pattern is interpreted as a regular expression, and has match groups. To actually get the groups, use str.extract.\n",
      "  relevant_docs = df_arxiv[df_arxiv[\"titles\"].str.contains(question, case=False, na=False, regex=True)][\"summaries\"].tolist()\n"
     ]
    },
    {
     "name": "stdout",
     "output_type": "stream",
     "text": [
      "Evaluating question 8/32...\n",
      "Evaluating question 9/32...\n",
      "Evaluating question 10/32...\n",
      "Evaluating question 11/32...\n",
      "Evaluating question 12/32...\n",
      "Evaluating question 13/32...\n",
      "Evaluating question 14/32...\n",
      "Evaluating question 15/32...\n",
      "Evaluating question 16/32...\n",
      "Evaluating question 17/32...\n",
      "Evaluating question 18/32...\n",
      "Evaluating question 19/32...\n",
      "Evaluating question 20/32...\n",
      "Evaluating question 21/32...\n",
      "Evaluating question 22/32...\n",
      "Evaluating question 23/32...\n",
      "Evaluating question 24/32...\n",
      "Evaluating question 25/32...\n",
      "Evaluating question 26/32...\n",
      "Evaluating question 27/32...\n",
      "Evaluating question 28/32...\n",
      "Evaluating question 29/32...\n",
      "Evaluating question 30/32...\n",
      "Evaluating question 31/32...\n",
      "Evaluating question 32/32...\n",
      "Evaluation completed and saved to 'rag_llm_evaluation_results.csv'.\n"
     ]
    },
    {
     "ename": "ParserError",
     "evalue": "Error tokenizing data. C error: Expected 12 fields in line 3, saw 15\n",
     "output_type": "error",
     "traceback": [
      "\u001b[0;31m---------------------------------------------------------------------------\u001b[0m",
      "\u001b[0;31mParserError\u001b[0m                               Traceback (most recent call last)",
      "Cell \u001b[0;32mIn[30], line 34\u001b[0m\n\u001b[1;32m     32\u001b[0m \u001b[38;5;66;03m# Display the Results\u001b[39;00m\n\u001b[1;32m     33\u001b[0m \u001b[38;5;28;01mimport\u001b[39;00m\u001b[38;5;250m \u001b[39m\u001b[38;5;21;01mpandas\u001b[39;00m\u001b[38;5;250m \u001b[39m\u001b[38;5;28;01mas\u001b[39;00m\u001b[38;5;250m \u001b[39m\u001b[38;5;21;01mpd\u001b[39;00m\n\u001b[0;32m---> 34\u001b[0m df_evaluated \u001b[38;5;241m=\u001b[39m \u001b[43mpd\u001b[49m\u001b[38;5;241;43m.\u001b[39;49m\u001b[43mread_csv\u001b[49m\u001b[43m(\u001b[49m\u001b[38;5;124;43m\"\u001b[39;49m\u001b[38;5;124;43mrag_llm_evaluation_results.csv\u001b[39;49m\u001b[38;5;124;43m\"\u001b[39;49m\u001b[43m)\u001b[49m\n\u001b[1;32m     35\u001b[0m \u001b[38;5;28;01mimport\u001b[39;00m\u001b[38;5;250m \u001b[39m\u001b[38;5;21;01mace_tools\u001b[39;00m\u001b[38;5;250m \u001b[39m\u001b[38;5;28;01mas\u001b[39;00m\u001b[38;5;250m \u001b[39m\u001b[38;5;21;01mtools\u001b[39;00m\n\u001b[1;32m     36\u001b[0m tools\u001b[38;5;241m.\u001b[39mdisplay_dataframe_to_user(name\u001b[38;5;241m=\u001b[39m\u001b[38;5;124m\"\u001b[39m\u001b[38;5;124mRAG LLM Evaluation\u001b[39m\u001b[38;5;124m\"\u001b[39m, dataframe\u001b[38;5;241m=\u001b[39mdf_evaluated)\n",
      "File \u001b[0;32m/Library/Frameworks/Python.framework/Versions/3.13/lib/python3.13/site-packages/pandas/io/parsers/readers.py:1026\u001b[0m, in \u001b[0;36mread_csv\u001b[0;34m(filepath_or_buffer, sep, delimiter, header, names, index_col, usecols, dtype, engine, converters, true_values, false_values, skipinitialspace, skiprows, skipfooter, nrows, na_values, keep_default_na, na_filter, verbose, skip_blank_lines, parse_dates, infer_datetime_format, keep_date_col, date_parser, date_format, dayfirst, cache_dates, iterator, chunksize, compression, thousands, decimal, lineterminator, quotechar, quoting, doublequote, escapechar, comment, encoding, encoding_errors, dialect, on_bad_lines, delim_whitespace, low_memory, memory_map, float_precision, storage_options, dtype_backend)\u001b[0m\n\u001b[1;32m   1013\u001b[0m kwds_defaults \u001b[38;5;241m=\u001b[39m _refine_defaults_read(\n\u001b[1;32m   1014\u001b[0m     dialect,\n\u001b[1;32m   1015\u001b[0m     delimiter,\n\u001b[0;32m   (...)\u001b[0m\n\u001b[1;32m   1022\u001b[0m     dtype_backend\u001b[38;5;241m=\u001b[39mdtype_backend,\n\u001b[1;32m   1023\u001b[0m )\n\u001b[1;32m   1024\u001b[0m kwds\u001b[38;5;241m.\u001b[39mupdate(kwds_defaults)\n\u001b[0;32m-> 1026\u001b[0m \u001b[38;5;28;01mreturn\u001b[39;00m \u001b[43m_read\u001b[49m\u001b[43m(\u001b[49m\u001b[43mfilepath_or_buffer\u001b[49m\u001b[43m,\u001b[49m\u001b[43m \u001b[49m\u001b[43mkwds\u001b[49m\u001b[43m)\u001b[49m\n",
      "File \u001b[0;32m/Library/Frameworks/Python.framework/Versions/3.13/lib/python3.13/site-packages/pandas/io/parsers/readers.py:626\u001b[0m, in \u001b[0;36m_read\u001b[0;34m(filepath_or_buffer, kwds)\u001b[0m\n\u001b[1;32m    623\u001b[0m     \u001b[38;5;28;01mreturn\u001b[39;00m parser\n\u001b[1;32m    625\u001b[0m \u001b[38;5;28;01mwith\u001b[39;00m parser:\n\u001b[0;32m--> 626\u001b[0m     \u001b[38;5;28;01mreturn\u001b[39;00m \u001b[43mparser\u001b[49m\u001b[38;5;241;43m.\u001b[39;49m\u001b[43mread\u001b[49m\u001b[43m(\u001b[49m\u001b[43mnrows\u001b[49m\u001b[43m)\u001b[49m\n",
      "File \u001b[0;32m/Library/Frameworks/Python.framework/Versions/3.13/lib/python3.13/site-packages/pandas/io/parsers/readers.py:1923\u001b[0m, in \u001b[0;36mTextFileReader.read\u001b[0;34m(self, nrows)\u001b[0m\n\u001b[1;32m   1916\u001b[0m nrows \u001b[38;5;241m=\u001b[39m validate_integer(\u001b[38;5;124m\"\u001b[39m\u001b[38;5;124mnrows\u001b[39m\u001b[38;5;124m\"\u001b[39m, nrows)\n\u001b[1;32m   1917\u001b[0m \u001b[38;5;28;01mtry\u001b[39;00m:\n\u001b[1;32m   1918\u001b[0m     \u001b[38;5;66;03m# error: \"ParserBase\" has no attribute \"read\"\u001b[39;00m\n\u001b[1;32m   1919\u001b[0m     (\n\u001b[1;32m   1920\u001b[0m         index,\n\u001b[1;32m   1921\u001b[0m         columns,\n\u001b[1;32m   1922\u001b[0m         col_dict,\n\u001b[0;32m-> 1923\u001b[0m     ) \u001b[38;5;241m=\u001b[39m \u001b[38;5;28;43mself\u001b[39;49m\u001b[38;5;241;43m.\u001b[39;49m\u001b[43m_engine\u001b[49m\u001b[38;5;241;43m.\u001b[39;49m\u001b[43mread\u001b[49m\u001b[43m(\u001b[49m\u001b[43m  \u001b[49m\u001b[38;5;66;43;03m# type: ignore[attr-defined]\u001b[39;49;00m\n\u001b[1;32m   1924\u001b[0m \u001b[43m        \u001b[49m\u001b[43mnrows\u001b[49m\n\u001b[1;32m   1925\u001b[0m \u001b[43m    \u001b[49m\u001b[43m)\u001b[49m\n\u001b[1;32m   1926\u001b[0m \u001b[38;5;28;01mexcept\u001b[39;00m \u001b[38;5;167;01mException\u001b[39;00m:\n\u001b[1;32m   1927\u001b[0m     \u001b[38;5;28mself\u001b[39m\u001b[38;5;241m.\u001b[39mclose()\n",
      "File \u001b[0;32m/Library/Frameworks/Python.framework/Versions/3.13/lib/python3.13/site-packages/pandas/io/parsers/c_parser_wrapper.py:234\u001b[0m, in \u001b[0;36mCParserWrapper.read\u001b[0;34m(self, nrows)\u001b[0m\n\u001b[1;32m    232\u001b[0m \u001b[38;5;28;01mtry\u001b[39;00m:\n\u001b[1;32m    233\u001b[0m     \u001b[38;5;28;01mif\u001b[39;00m \u001b[38;5;28mself\u001b[39m\u001b[38;5;241m.\u001b[39mlow_memory:\n\u001b[0;32m--> 234\u001b[0m         chunks \u001b[38;5;241m=\u001b[39m \u001b[38;5;28;43mself\u001b[39;49m\u001b[38;5;241;43m.\u001b[39;49m\u001b[43m_reader\u001b[49m\u001b[38;5;241;43m.\u001b[39;49m\u001b[43mread_low_memory\u001b[49m\u001b[43m(\u001b[49m\u001b[43mnrows\u001b[49m\u001b[43m)\u001b[49m\n\u001b[1;32m    235\u001b[0m         \u001b[38;5;66;03m# destructive to chunks\u001b[39;00m\n\u001b[1;32m    236\u001b[0m         data \u001b[38;5;241m=\u001b[39m _concatenate_chunks(chunks)\n",
      "File \u001b[0;32mparsers.pyx:838\u001b[0m, in \u001b[0;36mpandas._libs.parsers.TextReader.read_low_memory\u001b[0;34m()\u001b[0m\n",
      "File \u001b[0;32mparsers.pyx:905\u001b[0m, in \u001b[0;36mpandas._libs.parsers.TextReader._read_rows\u001b[0;34m()\u001b[0m\n",
      "File \u001b[0;32mparsers.pyx:874\u001b[0m, in \u001b[0;36mpandas._libs.parsers.TextReader._tokenize_rows\u001b[0;34m()\u001b[0m\n",
      "File \u001b[0;32mparsers.pyx:891\u001b[0m, in \u001b[0;36mpandas._libs.parsers.TextReader._check_tokenize_status\u001b[0;34m()\u001b[0m\n",
      "File \u001b[0;32mparsers.pyx:2061\u001b[0m, in \u001b[0;36mpandas._libs.parsers.raise_parser_error\u001b[0;34m()\u001b[0m\n",
      "\u001b[0;31mParserError\u001b[0m: Error tokenizing data. C error: Expected 12 fields in line 3, saw 15\n"
     ]
    }
   ],
   "source": [
    "# Automate LLM Evaluation\n",
    "evaluations = []\n",
    "\n",
    "for index, row in df_rag.iterrows():\n",
    "    question = row[\"question\"]\n",
    "    answer = row[\"answer\"]\n",
    "    retrieved_docs = \"; \".join(row[\"retrieved_docs\"])  # Join multiple retrieved docs\n",
    "\n",
    "    # Get relevant documents from original dataset\n",
    "    relevant_docs = df_arxiv[df_arxiv[\"titles\"].str.contains(question, case=False, na=False, regex=True)][\"summaries\"].tolist()\n",
    "    original_data = \"\\n\\n\".join(relevant_docs) if relevant_docs else \"No relevant documents found in the dataset.\"\n",
    "\n",
    "    print(f\"Evaluating question {index + 1}/{len(df_rag)}...\")  # Progress tracking\n",
    "\n",
    "    evaluation_result = evaluate_rag_with_llm(question, answer, retrieved_docs, original_data)\n",
    "\n",
    "    if evaluation_result:\n",
    "        # Append the GPT-4-generated CSV rows directly to a list\n",
    "        evaluations.append(evaluation_result)\n",
    "\n",
    "    time.sleep(1)  # Add delay to avoid API rate limits\n",
    "\n",
    "# Save Evaluated Results\n",
    "csv_content = \"Question,Generated Answer,Retrieved Docs,Correct Docs,Incorrect Docs,Missing Docs,Hallucination (Yes/No),Precision,Recall,F1-score,Accuracy,Evaluation Comment\\n\"\n",
    "csv_content += \"\\n\".join(evaluations)  # Join all CSV rows\n",
    "\n",
    "with open(\"rag_llm_evaluation_results.csv\", \"w\") as f:\n",
    "    f.write(csv_content)\n",
    "\n",
    "print(\"Evaluation completed and saved to 'rag_llm_evaluation_results.csv'.\")\n",
    "\n",
    "# Display the Results\n",
    "import pandas as pd\n",
    "df_evaluated = pd.read_csv(\"rag_llm_evaluation_results.csv\")\n",
    "import ace_tools as tools\n",
    "tools.display_dataframe_to_user(name=\"RAG LLM Evaluation\", dataframe=df_evaluated)"
   ]
  }
 ],
 "metadata": {
  "kernelspec": {
   "display_name": "Python 3",
   "language": "python",
   "name": "python3"
  },
  "language_info": {
   "codemirror_mode": {
    "name": "ipython",
    "version": 3
   },
   "file_extension": ".py",
   "mimetype": "text/x-python",
   "name": "python",
   "nbconvert_exporter": "python",
   "pygments_lexer": "ipython3",
   "version": "3.13.2"
  }
 },
 "nbformat": 4,
 "nbformat_minor": 5
}
